{
 "cells": [
  {
   "cell_type": "code",
   "execution_count": null,
   "id": "85f83d6d",
   "metadata": {},
   "outputs": [],
   "source": [
    "#imports\n",
    "import numpy as np\n",
    "import pandas as pd\n",
    "import matplotlib.pyplot as plt"
   ]
  },
  {
   "cell_type": "code",
   "execution_count": 3,
   "id": "abf6b56f",
   "metadata": {},
   "outputs": [],
   "source": [
    "#functions\n",
    "def sigmoid(z):\n",
    "    return 1.0/(1.0 + np.exp(z))\n",
    "\n",
    "def calculate_gradient(theta,X,y):\n",
    "    m = y.size\n",
    "    #gradient = (1/m)Xt(y-(h(theta x)))\n",
    "    return (1/m)*(X.T @ ( y - sigmoid(theta @ X)))\n",
    "\n",
    "def gradient_decent(X,y,theta,L=0.1,number_of_iterations=100,tolerance = 1e-7):\n",
    "    X_b = np.c_[np.ones((X.shape[0],1)),X]\n",
    "    theta = np.zeros(X_b.shape[1])\n",
    "    for i in range(number_of_iterations):\n",
    "        theta -= L * calculate_gradient(theta,X,y)\n",
    "        if np.linalg.norm(calculate_gradient(theta,X,y))< tolerance:\n",
    "            break\n",
    "    return theta"
   ]
  },
  {
   "cell_type": "code",
   "execution_count": null,
   "id": "34fbf680",
   "metadata": {},
   "outputs": [],
   "source": []
  },
  {
   "cell_type": "code",
   "execution_count": null,
   "id": "b8df27f4",
   "metadata": {},
   "outputs": [],
   "source": []
  },
  {
   "cell_type": "code",
   "execution_count": null,
   "id": "90c0d911",
   "metadata": {},
   "outputs": [],
   "source": []
  }
 ],
 "metadata": {
  "kernelspec": {
   "display_name": "base",
   "language": "python",
   "name": "python3"
  },
  "language_info": {
   "codemirror_mode": {
    "name": "ipython",
    "version": 3
   },
   "file_extension": ".py",
   "mimetype": "text/x-python",
   "name": "python",
   "nbconvert_exporter": "python",
   "pygments_lexer": "ipython3",
   "version": "3.12.7"
  }
 },
 "nbformat": 4,
 "nbformat_minor": 5
}
