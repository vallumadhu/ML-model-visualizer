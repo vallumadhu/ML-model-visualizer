{
 "cells": [
  {
   "cell_type": "code",
   "execution_count": null,
   "id": "85f83d6d",
   "metadata": {},
   "outputs": [],
   "source": [
    "#imports\n",
    "import numpy as np\n",
    "import pandas as pd\n",
    "import matplotlib.pyplot as plt"
   ]
  },
  {
   "cell_type": "code",
   "execution_count": null,
   "id": "abf6b56f",
   "metadata": {},
   "outputs": [
    {
     "ename": "",
     "evalue": "",
     "output_type": "error",
     "traceback": [
      "\u001b[1;31mThe Kernel crashed while executing code in the current cell or a previous cell. \n",
      "\u001b[1;31mPlease review the code in the cell(s) to identify a possible cause of the failure. \n",
      "\u001b[1;31mClick <a href='https://aka.ms/vscodeJupyterKernelCrash'>here</a> for more info. \n",
      "\u001b[1;31mView Jupyter <a href='command:jupyter.viewOutput'>log</a> for further details."
     ]
    }
   ],
   "source": [
    "#functions\n",
    "def sigmoid(z):\n",
    "    return 1.0/(1.0 + np.exp(z))\n",
    "\n",
    "def calculate_gradient(theta,X,y):\n",
    "    m = y.size\n",
    "    #gradient = (1/m)Xt(y-(h(theta x)))\n",
    "    return (1/m)*(X.T @ ( y - sigmoid(theta @ X)))\n",
    "\n",
    "def gradient_decent(X,y,theta,L=0.1,number_of_iterations=100,tolerance = 1e-7):\n",
    "    X_b = np.c_[np.ones((X.shape[0],1)),X]\n",
    "    theta = np.zeros(X_b.shape[1])\n",
    "    for i in range(number_of_iterations):\n",
    "        theta -= L * calculate_gradient(theta,X,y)\n",
    "        if np.linalg.norm(calculate_gradient(theta,X,y))< tolerance:\n",
    "            break\n",
    "    return theta\n",
    "\n",
    "def predict_proba(X, theta) :\n",
    "    X_b = np.c_[np.ones((X.shape[0],1)),X]\n",
    "    return sigmoid(X_b @ theta)\n",
    "\n",
    "def predict(X, theta, threshold=0.5):\n",
    "    return (predict_proba(X, theta) >= threshold).astype(int)"
   ]
  },
  {
   "cell_type": "code",
   "execution_count": null,
   "id": "9ec77dd7",
   "metadata": {},
   "outputs": [],
   "source": []
  },
  {
   "cell_type": "code",
   "execution_count": null,
   "id": "34fbf680",
   "metadata": {},
   "outputs": [],
   "source": []
  }
 ],
 "metadata": {
  "kernelspec": {
   "display_name": "base",
   "language": "python",
   "name": "python3"
  },
  "language_info": {
   "codemirror_mode": {
    "name": "ipython",
    "version": 3
   },
   "file_extension": ".py",
   "mimetype": "text/x-python",
   "name": "python",
   "nbconvert_exporter": "python",
   "pygments_lexer": "ipython3",
   "version": "3.12.7"
  }
 },
 "nbformat": 4,
 "nbformat_minor": 5
}
