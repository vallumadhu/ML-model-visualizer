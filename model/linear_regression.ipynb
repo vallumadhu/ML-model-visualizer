{
 "cells": [
  {
   "cell_type": "code",
   "execution_count": null,
   "id": "55a130a7",
   "metadata": {},
   "outputs": [],
   "source": [
    "import numpy as np"
   ]
  },
  {
   "cell_type": "code",
   "execution_count": null,
   "id": "3b3cb3f7",
   "metadata": {},
   "outputs": [],
   "source": [
    "class Linear_Regression:\n",
    "\n",
    "  def __init__(self,learning_rate=0.01,no_of_iterations=1000):\n",
    "    self.learning_rate = learning_rate\n",
    "    self.no_of_iterations = no_of_iterations\n",
    "\n",
    "  def fit(self,X_train,Y_train):\n",
    "    self.X_train = X_train\n",
    "    self.Y_train = Y_train\n",
    "    self.m,self.n = self.X_train.shape #m is no of data points and n is no of feature columns\n",
    "    self.bias = 0\n",
    "    self.weights = np.zeros(self.n) # no of weights = no of feautre columns\n",
    "    \n",
    "    #updating our weights using gradient decent\n",
    "    for i in range(self.no_of_iterations):\n",
    "      self.update_weights()\n",
    "\n",
    "\n",
    "  def update_weights(self):\n",
    "    Y_predict = self.predict(self.X_train)\n",
    "\n",
    "    #refer derivation notes for how to compute dw and db eqations\n",
    "    dw = (1/self.m)*self.X_train.T.dot(Y_predict-self.Y_train) \n",
    "    db = (1/self.m)*np.sum(Y_predict-self.Y_train)\n",
    "\n",
    "    #adjusting weights using gradient decent\n",
    "    self.weights = self.weights - self.learning_rate*dw\n",
    "    self.bias = self.bias - self.learning_rate*db\n",
    "\n",
    "  def predict(self,X_test):\n",
    "    return X_test.dot(self.weights) + self.bias"
   ]
  }
 ],
 "metadata": {
  "kernelspec": {
   "display_name": "venv",
   "language": "python",
   "name": "python3"
  },
  "language_info": {
   "codemirror_mode": {
    "name": "ipython",
    "version": 3
   },
   "file_extension": ".py",
   "mimetype": "text/x-python",
   "name": "python",
   "nbconvert_exporter": "python",
   "pygments_lexer": "ipython3",
   "version": "3.13.3"
  }
 },
 "nbformat": 4,
 "nbformat_minor": 5
}
