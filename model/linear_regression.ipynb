{
 "cells": [
  {
   "cell_type": "code",
   "execution_count": 5,
   "id": "55a130a7",
   "metadata": {},
   "outputs": [],
   "source": [
    "import numpy as np\n",
    "import pandas as pd\n",
    "import matplotlib.pyplot as plt\n",
    "import imageio.v2 as imageio\n",
    "import os\n",
    "from io import BytesIO"
   ]
  },
  {
   "cell_type": "code",
   "execution_count": 6,
   "id": "a6f33f82",
   "metadata": {},
   "outputs": [],
   "source": [
    "image_files = []"
   ]
  },
  {
   "cell_type": "code",
   "execution_count": 8,
   "id": "3b3cb3f7",
   "metadata": {},
   "outputs": [],
   "source": [
    "class Linear_Regression:\n",
    "\n",
    "  def __init__(self,learning_rate=0.01,no_of_iterations=1000):\n",
    "    self.learning_rate = learning_rate\n",
    "    self.no_of_iterations = no_of_iterations\n",
    "\n",
    "  def fit(self,X_train,Y_train):\n",
    "    \n",
    "    self.X_train = X_train\n",
    "    self.Y_train = Y_train\n",
    "    self.m,self.n = self.X_train.shape #m is no of data points and n is no of feature columns\n",
    "    self.bias = 0\n",
    "    self.weights = np.zeros(self.n) # no of weights = no of feautre columns\n",
    "    \n",
    "    #updating our weights using gradient decent\n",
    "    for i in range(self.no_of_iterations):\n",
    "\n",
    "      if i<50 or i%10 == 0: # only taking 1 frame out of 10\n",
    "        if self.n == 1: #2d visualization\n",
    "\n",
    "\n",
    "          x = self.X_train.flatten()\n",
    "          y = self.Y_train\n",
    "          m = self.weights\n",
    "          c = self.bias\n",
    "          y_pred =  x*m  + c\n",
    "\n",
    "          x1 = 0 if x[0] > 0 else x[0]\n",
    "          x2 = x[-1]\n",
    "          y1 = 0 if y[0] > 0 else y[0]\n",
    "          y2 = y[-1]\n",
    "\n",
    "          plt.plot(x,y,\"r.\")\n",
    "          plt.plot(x,y_pred)\n",
    "          plt.xlim(x1, x2)   #x and y limts to define plot dimensions\n",
    "          plt.ylim(y1, y2)\n",
    "          buffer = BytesIO()\n",
    "          plt.savefig(buffer, format='png')\n",
    "          image_files.append(imageio.imread(buffer))\n",
    "          plt.clf()        #to clear plt after saving so that it won't interfere with ones in upcoming iterations \n",
    "        \n",
    "        if self.n == 2: #3d visualization\n",
    "          pass # to vinayak\n",
    "\n",
    "        else:\n",
    "          pass # some code to let user know \"we can't make plots on 4d yet\"... \n",
    "      \n",
    "\n",
    "      self.update_weights()\n",
    "\n",
    "  def update_weights(self):\n",
    "    \n",
    "    Y_predict = self.predict(self.X_train)\n",
    "\n",
    "    #refer derivation notes for how to compute dw and db eqations\n",
    "    dw = (1/self.m)*self.X_train.T.dot(Y_predict-self.Y_train) \n",
    "    db = (1/self.m)*np.sum(Y_predict-self.Y_train)\n",
    "\n",
    "    #adjusting weights using gradient decent\n",
    "    self.weights = self.weights - self.learning_rate*dw\n",
    "    self.bias = self.bias - self.learning_rate*db\n",
    "\n",
    "  def predict(self,X_test):\n",
    "    return X_test.dot(self.weights) + self.bias"
   ]
  },
  {
   "cell_type": "code",
   "execution_count": null,
   "id": "07b63f73",
   "metadata": {},
   "outputs": [
    {
     "data": {
      "text/plain": [
       "<Figure size 640x480 with 0 Axes>"
      ]
     },
     "metadata": {},
     "output_type": "display_data"
    }
   ],
   "source": [
    "#only for testing purpose\n",
    "\n",
    "model = Linear_Regression()\n",
    "file_path = '../datasets/salary_data.csv'\n",
    "df = pd.read_csv(file_path)\n",
    "\n",
    "X = df['YearsExperience'].values\n",
    "Y = df['Salary'].values\n",
    "\n",
    "if len(X.shape) == 1:\n",
    "    X = X.reshape(-1, 1)\n",
    "\n",
    "model.fit(X,Y)\n",
    "\n",
    "durations = [1 - 0.004*i for i in range(len(image_files))]\n",
    "durations = [max(d, 0.05) for d in durations]\n",
    "\n",
    "imageio.mimsave(\"../gifs/linear_regression_visualization.gif\", image_files, duration=durations)  #further when we will have to send image to front we will store it in buffer"
   ]
  }
 ],
 "metadata": {
  "kernelspec": {
   "display_name": "venv",
   "language": "python",
   "name": "python3"
  },
  "language_info": {
   "codemirror_mode": {
    "name": "ipython",
    "version": 3
   },
   "file_extension": ".py",
   "mimetype": "text/x-python",
   "name": "python",
   "nbconvert_exporter": "python",
   "pygments_lexer": "ipython3",
   "version": "3.13.3"
  }
 },
 "nbformat": 4,
 "nbformat_minor": 5
}
